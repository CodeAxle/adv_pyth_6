{
 "cells": [
  {
   "cell_type": "markdown",
   "id": "62958b5f",
   "metadata": {},
   "source": [
    "# 1."
   ]
  },
  {
   "cell_type": "code",
   "execution_count": 1,
   "id": "884eddb8",
   "metadata": {},
   "outputs": [],
   "source": [
    "# Exception processing is a crucial aspect of programming that allows developers to handle errors and unexpected \n",
    "#  situations gracefully. \n",
    "    \n",
    "# Here are three common applications of exception processing:\n",
    "\n",
    "# a) Input Validation and Error Handling:\n",
    "# 1. One of the primary uses of exception processing is input validation. For example, when a user provides input to a program,\n",
    "#    such as entering a number in a text field that expects only integers, the program can use exception handling to catch input \n",
    "#    errors and prompt the user to enter valid data.\n",
    "# 2. Error handling in file operations is another common application. When reading from or writing to files, exceptions such \n",
    "#     as FileNotFoundError or PermissionError may occur. Exception handling helps manage these errors by providing fallback \n",
    "#     actions or error messages to users.\n",
    "    \n",
    "# b) Database Operations:\n",
    "# 1. Exception processing is essential in database operations to handle potential errors such as connection failures, query errors,\n",
    "#     or data validation issues. For instance, if a database query fails due to incorrect syntax or connectivity issues, \n",
    "#     exception handling can log the error, roll back transactions if necessary, and notify administrators or users about \n",
    "#     the issue.\n",
    "# 2. Data validation errors, like attempting to insert duplicate records or violating database constraints, can also be handled \n",
    "#     using exception processing. This ensures data integrity and prevents unexpected behavior.\n",
    "\n",
    "# c) Network Communication and APIs:\n",
    "# 1. When working with network communication, such as making HTTP requests to APIs, exception handling is crucial for dealing \n",
    "#     with connection errors, timeouts, and response parsing issues. For example, if an API endpoint is unreachable or returns \n",
    "#     an unexpected response format, exception processing helps manage these situations gracefully.\n",
    "# 2. Exception handling is also prevalent in web development for handling errors in web applications. This includes handling \n",
    "#     HTTP errors (e.g., 404, 500), validating user input in web forms, and managing sessions and authentication errors."
   ]
  },
  {
   "cell_type": "markdown",
   "id": "8f030665",
   "metadata": {},
   "source": [
    "# 2."
   ]
  },
  {
   "cell_type": "code",
   "execution_count": 2,
   "id": "28a55372",
   "metadata": {},
   "outputs": [],
   "source": [
    "# If you don't handle an exception explicitly or do something extra to treat it, the exception will propagate up through the \n",
    "# call stack until it either reaches an appropriate exception handler or causes the program to terminate abruptly.\n",
    "\n",
    "# Here are the typical consequences of not handling exceptions properly:\n",
    "\n",
    "# a) Program Termination:\n",
    "# If an exception occurs and isn't caught or handled within the current scope, it will propagate to the caller function. \n",
    "# This process continues until either an exception handler is found or the exception reaches the top-level of the program. \n",
    "# At the top-level, unhandled exceptions lead to program termination, and an error message or traceback is displayed.\n",
    "\n",
    "# b) Incomplete Operations:\n",
    "# Without proper exception handling, operations that encounter exceptions may not complete successfully. For example, if a file\n",
    "# operation fails due to a permission error and the exception is not handled, subsequent code that depends on the successful \n",
    "# completion of that operation may not execute as expected.\n",
    "\n",
    "# c) Resource Leakage:\n",
    "# Failure to handle exceptions can lead to resource leakage, especially in scenarios involving file handling, database connections,\n",
    "# network sockets, etc. Unclosed resources can result in memory leaks, file locks, or other issues that degrade system performance\n",
    "# and stability.\n",
    "\n",
    "# d) Poor User Experience:\n",
    "# In applications with graphical user interfaces (GUIs) or command-line interfaces (CLIs), unhandled exceptions can result in \n",
    "# crashes or unexpected behaviors visible to end-users. This can lead to a poor user experience and frustration, particularly \n",
    "# if users are not provided with clear error messages or guidance on how to resolve the issue.\n",
    "\n",
    "# e) Security Risks:\n",
    "# Insecure exception handling practices, such as exposing sensitive information in error messages \n",
    "# (e.g., database connection details, internal paths), can pose security risks. Attackers may exploit such information to \n",
    "# launch targeted attacks or gain unauthorized access to the system."
   ]
  },
  {
   "cell_type": "markdown",
   "id": "3287f415",
   "metadata": {},
   "source": [
    "# 3."
   ]
  },
  {
   "cell_type": "code",
   "execution_count": 5,
   "id": "15aa3096",
   "metadata": {},
   "outputs": [],
   "source": [
    "# When handling exceptions in Python scripts, you have several options for recovering from the exception and continuing\n",
    "# script execution:\n",
    "\n",
    "# a) Try-Except Blocks:\n",
    "# Use try-except blocks to catch exceptions and handle them gracefully. Inside the try block, you place the code that might \n",
    "# raise an exception. In the except block, you handle the exception by providing recovery logic, logging the error, displaying\n",
    "# a user-friendly message, or taking corrective actions.\n",
    "\n",
    "# b) Specific Exception Handling:\n",
    "# You can handle specific exceptions individually to provide tailored recovery mechanisms for different types of errors. \n",
    "# This allows you to catch and handle specific exceptions while letting others propagate.\n",
    "\n",
    "# c) Multiple Except Blocks:\n",
    "# You can have multiple except blocks to handle different types of exceptions that may occur within the try block.\n",
    "# Python executes the first except block that matches the raised exception type.\n",
    "\n",
    "# d) Try-Except-Else Blocks:\n",
    "# You can use the else block along with try-except to execute code that should run only if no exceptions occur in the try block.\n",
    "# This is useful for separating error-handling logic from normal code execution.\n",
    "\n",
    "# e) Try-Except-Finally Blocks:\n",
    "# In addition to try-except, you can use the finally block to execute cleanup code that must run regardless of whether an\n",
    "# exception occurred or not. This is useful for releasing resources or closing files opened in the try block.\n",
    "\n",
    "# f) Raising Exceptions:\n",
    "# If necessary, you can raise exceptions using the raise statement to signal specific conditions or errors. This allows you to \n",
    "# propagate exceptions to higher levels of the program or trigger specific exception handling based on application logic."
   ]
  },
  {
   "cell_type": "markdown",
   "id": "e3e63af1",
   "metadata": {},
   "source": [
    "# 4."
   ]
  },
  {
   "cell_type": "code",
   "execution_count": 9,
   "id": "35ff49a9",
   "metadata": {},
   "outputs": [
    {
     "name": "stdout",
     "output_type": "stream",
     "text": [
      "Error: Division by zero is not allowed\n"
     ]
    }
   ],
   "source": [
    "# You can trigger exceptions in your Python script using various methods. Here are two common methods for triggering exceptions:\n",
    "\n",
    "# a) Raise an Exception Explicitly:\n",
    "# You can raise exceptions explicitly using the raise statement. This allows you to create and raise custom exceptions or \n",
    "# raise built-in exceptions to indicate errors or exceptional conditions in your code. You can raise exceptions based on \n",
    "# specific conditions or events within your code.\n",
    "\n",
    "# example:\n",
    "def divide(x, y):\n",
    "    if y == 0:\n",
    "        raise ZeroDivisionError(\"Division by zero is not allowed\")\n",
    "    return x / y\n",
    "\n",
    "try:\n",
    "    result = divide(10, 0)\n",
    "except ZeroDivisionError as e:\n",
    "    print(f\"Error: {e}\")\n"
   ]
  },
  {
   "cell_type": "code",
   "execution_count": 10,
   "id": "bece1b78",
   "metadata": {},
   "outputs": [
    {
     "ename": "IndexError",
     "evalue": "list index out of range",
     "output_type": "error",
     "traceback": [
      "\u001b[1;31m---------------------------------------------------------------------------\u001b[0m",
      "\u001b[1;31mIndexError\u001b[0m                                Traceback (most recent call last)",
      "Cell \u001b[1;32mIn[10], line 10\u001b[0m\n\u001b[0;32m      1\u001b[0m \u001b[38;5;66;03m# b) Triggering Built-in Exceptions:\u001b[39;00m\n\u001b[0;32m      2\u001b[0m \u001b[38;5;66;03m# Certain operations or functions in Python inherently raise exceptions under certain conditions. For example, trying to access\u001b[39;00m\n\u001b[0;32m      3\u001b[0m \u001b[38;5;66;03m# an index that is out of range in a list will raise an IndexError, or attempting to convert a string to an integer where the \u001b[39;00m\n\u001b[1;32m   (...)\u001b[0m\n\u001b[0;32m      7\u001b[0m \u001b[38;5;66;03m# example:\u001b[39;00m\n\u001b[0;32m      8\u001b[0m \u001b[38;5;66;03m# Example of triggering IndexError\u001b[39;00m\n\u001b[0;32m      9\u001b[0m my_list \u001b[38;5;241m=\u001b[39m [\u001b[38;5;241m1\u001b[39m, \u001b[38;5;241m2\u001b[39m, \u001b[38;5;241m3\u001b[39m]\n\u001b[1;32m---> 10\u001b[0m \u001b[38;5;28mprint\u001b[39m(my_list[\u001b[38;5;241m4\u001b[39m])  \u001b[38;5;66;03m# Raises IndexError: index out of range\u001b[39;00m\n\u001b[0;32m     12\u001b[0m \u001b[38;5;66;03m# Example of triggering ValueError\u001b[39;00m\n\u001b[0;32m     13\u001b[0m num_str \u001b[38;5;241m=\u001b[39m \u001b[38;5;124m\"\u001b[39m\u001b[38;5;124mabc\u001b[39m\u001b[38;5;124m\"\u001b[39m\n",
      "\u001b[1;31mIndexError\u001b[0m: list index out of range"
     ]
    }
   ],
   "source": [
    "# b) Triggering Built-in Exceptions:\n",
    "# Certain operations or functions in Python inherently raise exceptions under certain conditions. For example, trying to access\n",
    "# an index that is out of range in a list will raise an IndexError, or attempting to convert a string to an integer where the \n",
    "# string is not a valid integer will raise a ValueError. By performing such operations or calling functions that may raise \n",
    "# exceptions, you can trigger those exceptions in your script.\n",
    "\n",
    "# example:\n",
    "# Example of triggering IndexError\n",
    "my_list = [1, 2, 3]\n",
    "print(my_list[4])  # Raises IndexError: index out of range\n",
    "\n",
    "# Example of triggering ValueError\n",
    "num_str = \"abc\"\n",
    "num = int(num_str)  # Raises ValueError: invalid literal for int() with base 10: 'abc'"
   ]
  },
  {
   "cell_type": "markdown",
   "id": "d2793b4e",
   "metadata": {},
   "source": [
    "# 5."
   ]
  },
  {
   "cell_type": "code",
   "execution_count": null,
   "id": "44baa2d9",
   "metadata": {},
   "outputs": [],
   "source": [
    "# Two methods for specifying actions to be executed at termination time, regardless of whether or not an exception exists, are:\n",
    "\n",
    "# a) Using a Finally Block:\n",
    "# The finally block in Python allows you to specify cleanup or termination code that should be executed regardless of whether\n",
    "# an exception occurs or not. It ensures that certain actions are taken before exiting the try-except block. This is particularly\n",
    "# useful for releasing resources, closing files or connections, and performing cleanup tasks.\n",
    "\n",
    "try:\n",
    "    # Code that might raise an exception\n",
    "    result = perform_operation()\n",
    "except Exception as e:\n",
    "    # Handle the exception\n",
    "    print(f\"Error: {e}\")\n",
    "finally:\n",
    "    # Cleanup code (e.g., closing files, releasing resources)\n",
    "    cleanup_resources()"
   ]
  },
  {
   "cell_type": "code",
   "execution_count": 7,
   "id": "6a88ec45",
   "metadata": {},
   "outputs": [
    {
     "data": {
      "text/plain": [
       "<function __main__.cleanup()>"
      ]
     },
     "execution_count": 7,
     "metadata": {},
     "output_type": "execute_result"
    }
   ],
   "source": [
    "# b) Using the Exit Handlers in the atexit Module:\n",
    "# Python provides the atexit module, which allows you to register functions to be executed at program termination, \n",
    "# regardless of whether an exception is raised or not. You can use atexit.register() to register functions that should run\n",
    "# when the program exits normally or when the interpreter is shut down.\n",
    "\n",
    "import atexit\n",
    "\n",
    "def cleanup():\n",
    "    # Cleanup code to be executed at program termination\n",
    "    close_files()\n",
    "    release_resources()\n",
    "\n",
    "# Register the cleanup function to be called at program termination\n",
    "atexit.register(cleanup)"
   ]
  },
  {
   "cell_type": "code",
   "execution_count": null,
   "id": "90b8ea3c",
   "metadata": {},
   "outputs": [],
   "source": []
  }
 ],
 "metadata": {
  "kernelspec": {
   "display_name": "Python 3 (ipykernel)",
   "language": "python",
   "name": "python3"
  },
  "language_info": {
   "codemirror_mode": {
    "name": "ipython",
    "version": 3
   },
   "file_extension": ".py",
   "mimetype": "text/x-python",
   "name": "python",
   "nbconvert_exporter": "python",
   "pygments_lexer": "ipython3",
   "version": "3.11.5"
  }
 },
 "nbformat": 4,
 "nbformat_minor": 5
}
